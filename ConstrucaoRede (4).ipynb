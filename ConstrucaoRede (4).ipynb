{
 "cells": [
  {
   "cell_type": "markdown",
   "id": "265c5f4c-cfdf-4563-a1ed-9368bee0b2cf",
   "metadata": {
    "execution": {
     "iopub.execute_input": "2025-02-24T13:25:43.329745Z",
     "iopub.status.busy": "2025-02-24T13:25:43.328926Z",
     "iopub.status.idle": "2025-02-24T13:25:43.337091Z",
     "shell.execute_reply": "2025-02-24T13:25:43.335717Z",
     "shell.execute_reply.started": "2025-02-24T13:25:43.329708Z"
    }
   },
   "source": [
    "Importa bibliotecas"
   ]
  },
  {
   "cell_type": "code",
   "execution_count": 1,
   "id": "027a2e0b-c06f-401b-aba5-ed443675d346",
   "metadata": {
    "execution": {
     "iopub.execute_input": "2025-03-25T19:58:41.085011Z",
     "iopub.status.busy": "2025-03-25T19:58:41.083886Z",
     "iopub.status.idle": "2025-03-25T19:58:42.845343Z",
     "shell.execute_reply": "2025-03-25T19:58:42.844426Z",
     "shell.execute_reply.started": "2025-03-25T19:58:41.084971Z"
    }
   },
   "outputs": [],
   "source": [
    "import graph_tool_extras as gte\n",
    "import pandas as pd\n",
    "import csv\n",
    "from graph_tool import centrality\n",
    "from math import sqrt\n",
    "from statistics import mean\n",
    "from itertools import combinations\n",
    "import matplotlib.pyplot as plt\n",
    "from collections import Counter\n",
    "import numpy as np"
   ]
  },
  {
   "cell_type": "markdown",
   "id": "c22d514c-1870-46f5-8cb1-498078eec8c5",
   "metadata": {},
   "source": [
    "Importa a base de dados"
   ]
  },
  {
   "cell_type": "code",
   "execution_count": 2,
   "id": "7b3fdd2b-ebf5-4eef-a6f4-51d02d419cb9",
   "metadata": {
    "execution": {
     "iopub.execute_input": "2025-03-25T19:58:44.161437Z",
     "iopub.status.busy": "2025-03-25T19:58:44.160813Z",
     "iopub.status.idle": "2025-03-25T19:58:44.167692Z",
     "shell.execute_reply": "2025-03-25T19:58:44.166609Z",
     "shell.execute_reply.started": "2025-03-25T19:58:44.161404Z"
    }
   },
   "outputs": [],
   "source": [
    "PATH = './USvideos.csv'\n"
   ]
  },
  {
   "cell_type": "code",
   "execution_count": 3,
   "id": "60644c5f-a3e5-4bf1-b8f8-bf99e20cf403",
   "metadata": {
    "execution": {
     "iopub.execute_input": "2025-03-25T19:58:44.861811Z",
     "iopub.status.busy": "2025-03-25T19:58:44.861465Z",
     "iopub.status.idle": "2025-03-25T19:58:46.826512Z",
     "shell.execute_reply": "2025-03-25T19:58:46.825353Z",
     "shell.execute_reply.started": "2025-03-25T19:58:44.861786Z"
    }
   },
   "outputs": [],
   "source": [
    "data = pd.read_csv(PATH)"
   ]
  },
  {
   "cell_type": "code",
   "execution_count": 4,
   "id": "de115971-2886-42ae-a9a1-035364035e8a",
   "metadata": {
    "execution": {
     "iopub.execute_input": "2025-03-25T19:58:46.830610Z",
     "iopub.status.busy": "2025-03-25T19:58:46.829120Z",
     "iopub.status.idle": "2025-03-25T19:58:46.858107Z",
     "shell.execute_reply": "2025-03-25T19:58:46.856475Z",
     "shell.execute_reply.started": "2025-03-25T19:58:46.830577Z"
    }
   },
   "outputs": [
    {
     "data": {
      "text/html": [
       "<div>\n",
       "<style scoped>\n",
       "    .dataframe tbody tr th:only-of-type {\n",
       "        vertical-align: middle;\n",
       "    }\n",
       "\n",
       "    .dataframe tbody tr th {\n",
       "        vertical-align: top;\n",
       "    }\n",
       "\n",
       "    .dataframe thead th {\n",
       "        text-align: right;\n",
       "    }\n",
       "</style>\n",
       "<table border=\"1\" class=\"dataframe\">\n",
       "  <thead>\n",
       "    <tr style=\"text-align: right;\">\n",
       "      <th></th>\n",
       "      <th>video_id</th>\n",
       "      <th>trending_date</th>\n",
       "      <th>title</th>\n",
       "      <th>channel_title</th>\n",
       "      <th>category_id</th>\n",
       "      <th>publish_time</th>\n",
       "      <th>tags</th>\n",
       "      <th>views</th>\n",
       "      <th>likes</th>\n",
       "      <th>dislikes</th>\n",
       "      <th>comment_count</th>\n",
       "      <th>thumbnail_link</th>\n",
       "      <th>comments_disabled</th>\n",
       "      <th>ratings_disabled</th>\n",
       "      <th>video_error_or_removed</th>\n",
       "      <th>description</th>\n",
       "    </tr>\n",
       "  </thead>\n",
       "  <tbody>\n",
       "    <tr>\n",
       "      <th>0</th>\n",
       "      <td>2kyS6SvSYSE</td>\n",
       "      <td>17.14.11</td>\n",
       "      <td>WE WANT TO TALK ABOUT OUR MARRIAGE</td>\n",
       "      <td>CaseyNeistat</td>\n",
       "      <td>22</td>\n",
       "      <td>2017-11-13T17:13:01.000Z</td>\n",
       "      <td>SHANtell martin</td>\n",
       "      <td>748374</td>\n",
       "      <td>57527</td>\n",
       "      <td>2966</td>\n",
       "      <td>15954</td>\n",
       "      <td>https://i.ytimg.com/vi/2kyS6SvSYSE/default.jpg</td>\n",
       "      <td>False</td>\n",
       "      <td>False</td>\n",
       "      <td>False</td>\n",
       "      <td>SHANTELL'S CHANNEL - https://www.youtube.com/s...</td>\n",
       "    </tr>\n",
       "    <tr>\n",
       "      <th>1</th>\n",
       "      <td>1ZAPwfrtAFY</td>\n",
       "      <td>17.14.11</td>\n",
       "      <td>The Trump Presidency: Last Week Tonight with J...</td>\n",
       "      <td>LastWeekTonight</td>\n",
       "      <td>24</td>\n",
       "      <td>2017-11-13T07:30:00.000Z</td>\n",
       "      <td>last week tonight trump presidency|\"last week ...</td>\n",
       "      <td>2418783</td>\n",
       "      <td>97185</td>\n",
       "      <td>6146</td>\n",
       "      <td>12703</td>\n",
       "      <td>https://i.ytimg.com/vi/1ZAPwfrtAFY/default.jpg</td>\n",
       "      <td>False</td>\n",
       "      <td>False</td>\n",
       "      <td>False</td>\n",
       "      <td>One year after the presidential election, John...</td>\n",
       "    </tr>\n",
       "    <tr>\n",
       "      <th>2</th>\n",
       "      <td>5qpjK5DgCt4</td>\n",
       "      <td>17.14.11</td>\n",
       "      <td>Racist Superman | Rudy Mancuso, King Bach &amp; Le...</td>\n",
       "      <td>Rudy Mancuso</td>\n",
       "      <td>23</td>\n",
       "      <td>2017-11-12T19:05:24.000Z</td>\n",
       "      <td>racist superman|\"rudy\"|\"mancuso\"|\"king\"|\"bach\"...</td>\n",
       "      <td>3191434</td>\n",
       "      <td>146033</td>\n",
       "      <td>5339</td>\n",
       "      <td>8181</td>\n",
       "      <td>https://i.ytimg.com/vi/5qpjK5DgCt4/default.jpg</td>\n",
       "      <td>False</td>\n",
       "      <td>False</td>\n",
       "      <td>False</td>\n",
       "      <td>WATCH MY PREVIOUS VIDEO ▶ \\n\\nSUBSCRIBE ► http...</td>\n",
       "    </tr>\n",
       "    <tr>\n",
       "      <th>3</th>\n",
       "      <td>puqaWrEC7tY</td>\n",
       "      <td>17.14.11</td>\n",
       "      <td>Nickelback Lyrics: Real or Fake?</td>\n",
       "      <td>Good Mythical Morning</td>\n",
       "      <td>24</td>\n",
       "      <td>2017-11-13T11:00:04.000Z</td>\n",
       "      <td>rhett and link|\"gmm\"|\"good mythical morning\"|\"...</td>\n",
       "      <td>343168</td>\n",
       "      <td>10172</td>\n",
       "      <td>666</td>\n",
       "      <td>2146</td>\n",
       "      <td>https://i.ytimg.com/vi/puqaWrEC7tY/default.jpg</td>\n",
       "      <td>False</td>\n",
       "      <td>False</td>\n",
       "      <td>False</td>\n",
       "      <td>Today we find out if Link is a Nickelback amat...</td>\n",
       "    </tr>\n",
       "    <tr>\n",
       "      <th>4</th>\n",
       "      <td>d380meD0W0M</td>\n",
       "      <td>17.14.11</td>\n",
       "      <td>I Dare You: GOING BALD!?</td>\n",
       "      <td>nigahiga</td>\n",
       "      <td>24</td>\n",
       "      <td>2017-11-12T18:01:41.000Z</td>\n",
       "      <td>ryan|\"higa\"|\"higatv\"|\"nigahiga\"|\"i dare you\"|\"...</td>\n",
       "      <td>2095731</td>\n",
       "      <td>132235</td>\n",
       "      <td>1989</td>\n",
       "      <td>17518</td>\n",
       "      <td>https://i.ytimg.com/vi/d380meD0W0M/default.jpg</td>\n",
       "      <td>False</td>\n",
       "      <td>False</td>\n",
       "      <td>False</td>\n",
       "      <td>I know it's been a while since we did this sho...</td>\n",
       "    </tr>\n",
       "  </tbody>\n",
       "</table>\n",
       "</div>"
      ],
      "text/plain": [
       "      video_id trending_date  \\\n",
       "0  2kyS6SvSYSE      17.14.11   \n",
       "1  1ZAPwfrtAFY      17.14.11   \n",
       "2  5qpjK5DgCt4      17.14.11   \n",
       "3  puqaWrEC7tY      17.14.11   \n",
       "4  d380meD0W0M      17.14.11   \n",
       "\n",
       "                                               title          channel_title  \\\n",
       "0                 WE WANT TO TALK ABOUT OUR MARRIAGE           CaseyNeistat   \n",
       "1  The Trump Presidency: Last Week Tonight with J...        LastWeekTonight   \n",
       "2  Racist Superman | Rudy Mancuso, King Bach & Le...           Rudy Mancuso   \n",
       "3                   Nickelback Lyrics: Real or Fake?  Good Mythical Morning   \n",
       "4                           I Dare You: GOING BALD!?               nigahiga   \n",
       "\n",
       "   category_id              publish_time  \\\n",
       "0           22  2017-11-13T17:13:01.000Z   \n",
       "1           24  2017-11-13T07:30:00.000Z   \n",
       "2           23  2017-11-12T19:05:24.000Z   \n",
       "3           24  2017-11-13T11:00:04.000Z   \n",
       "4           24  2017-11-12T18:01:41.000Z   \n",
       "\n",
       "                                                tags    views   likes  \\\n",
       "0                                    SHANtell martin   748374   57527   \n",
       "1  last week tonight trump presidency|\"last week ...  2418783   97185   \n",
       "2  racist superman|\"rudy\"|\"mancuso\"|\"king\"|\"bach\"...  3191434  146033   \n",
       "3  rhett and link|\"gmm\"|\"good mythical morning\"|\"...   343168   10172   \n",
       "4  ryan|\"higa\"|\"higatv\"|\"nigahiga\"|\"i dare you\"|\"...  2095731  132235   \n",
       "\n",
       "   dislikes  comment_count                                  thumbnail_link  \\\n",
       "0      2966          15954  https://i.ytimg.com/vi/2kyS6SvSYSE/default.jpg   \n",
       "1      6146          12703  https://i.ytimg.com/vi/1ZAPwfrtAFY/default.jpg   \n",
       "2      5339           8181  https://i.ytimg.com/vi/5qpjK5DgCt4/default.jpg   \n",
       "3       666           2146  https://i.ytimg.com/vi/puqaWrEC7tY/default.jpg   \n",
       "4      1989          17518  https://i.ytimg.com/vi/d380meD0W0M/default.jpg   \n",
       "\n",
       "   comments_disabled  ratings_disabled  video_error_or_removed  \\\n",
       "0              False             False                   False   \n",
       "1              False             False                   False   \n",
       "2              False             False                   False   \n",
       "3              False             False                   False   \n",
       "4              False             False                   False   \n",
       "\n",
       "                                         description  \n",
       "0  SHANTELL'S CHANNEL - https://www.youtube.com/s...  \n",
       "1  One year after the presidential election, John...  \n",
       "2  WATCH MY PREVIOUS VIDEO ▶ \\n\\nSUBSCRIBE ► http...  \n",
       "3  Today we find out if Link is a Nickelback amat...  \n",
       "4  I know it's been a while since we did this sho...  "
      ]
     },
     "execution_count": 4,
     "metadata": {},
     "output_type": "execute_result"
    }
   ],
   "source": [
    "data.head(5)"
   ]
  },
  {
   "cell_type": "code",
   "execution_count": 5,
   "id": "73b412f2-f9aa-451e-9c13-b2eea3c59e64",
   "metadata": {
    "execution": {
     "iopub.execute_input": "2025-03-25T19:58:49.321568Z",
     "iopub.status.busy": "2025-03-25T19:58:49.320977Z",
     "iopub.status.idle": "2025-03-25T19:58:49.326767Z",
     "shell.execute_reply": "2025-03-25T19:58:49.325539Z",
     "shell.execute_reply.started": "2025-03-25T19:58:49.321539Z"
    }
   },
   "outputs": [],
   "source": [
    "def formata_tag(tag_string):\n",
    "    # Remove espaços extras e divide pelo separador \"|\"\n",
    "    tags = tag_string.strip().split(\"|\")\n",
    "    \n",
    "    # Remove aspas extras caso existam\n",
    "    tags = [tag.strip('\"') for tag in tags]\n",
    "    \n",
    "    # Retorna as tags no formato desejado\n",
    "    return tags"
   ]
  },
  {
   "cell_type": "code",
   "execution_count": 6,
   "id": "24a2c05c-0130-489d-a8b5-bec80cff23f9",
   "metadata": {
    "execution": {
     "iopub.execute_input": "2025-03-25T19:58:50.141198Z",
     "iopub.status.busy": "2025-03-25T19:58:50.140428Z",
     "iopub.status.idle": "2025-03-25T19:58:53.972868Z",
     "shell.execute_reply": "2025-03-25T19:58:53.971714Z",
     "shell.execute_reply.started": "2025-03-25T19:58:50.141164Z"
    }
   },
   "outputs": [],
   "source": [
    "dic = {}\n",
    "with open(PATH) as file:\n",
    "    reader = csv.reader(file)\n",
    "\n",
    "    # Ignora a primeira linha, pois ela é o cabeçalho.\n",
    "    next(reader)\n",
    "\n",
    "    # Lê o arquivo linha por linha, sem carregá-lo inteiro na memória.\n",
    "    for line in reader:\n",
    "\n",
    "        key = line[0] #USA O ID COMO CHAVE\n",
    "\n",
    "        tags = formata_tag(line[6])\n",
    "        \n",
    "        # Neste caso, vamos guardar as informações em dicionário. Lembre que,\n",
    "        # dependendo do caso, a memória do seu computador pode não aguentar.\n",
    "        dic[key] = tags"
   ]
  },
  {
   "cell_type": "code",
   "execution_count": 29,
   "id": "fc44da7e-f588-43c1-a2bd-b3e6b641d888",
   "metadata": {
    "execution": {
     "iopub.execute_input": "2025-03-25T19:53:17.109217Z",
     "iopub.status.busy": "2025-03-25T19:53:17.108636Z",
     "iopub.status.idle": "2025-03-25T19:53:17.550684Z",
     "shell.execute_reply": "2025-03-25T19:53:17.549724Z",
     "shell.execute_reply.started": "2025-03-25T19:53:17.109186Z"
    }
   },
   "outputs": [
    {
     "data": {
      "image/png": "[encoded data removed]",
      "text/plain": [
       "<Figure size 1500x800 with 1 Axes>"
      ]
     },
     "metadata": {},
     "output_type": "display_data"
    },
    {
     "name": "stdout",
     "output_type": "stream",
     "text": [
      "Média da quantidade de tags por vídeo: 19.96000629822075\n"
     ]
    }
   ],
   "source": [
    "contador_tag_video = Counter()\n",
    "for u in dic.keys():\n",
    "    n = len(dic[u])\n",
    "    contador_tag_video[n] += 1\n",
    "\n",
    "x_values = sorted(contador_tag_video.keys())\n",
    "y_values = [contador_tag_video[x] for x in x_values]\n",
    "\n",
    "# Criar gráfico\n",
    "plt.figure(figsize=(15, 8))\n",
    "plt.bar(x_values, y_values, color='b', alpha=0.7)\n",
    "plt.xlabel(\"Número de tags\")\n",
    "plt.ylabel(\"Quantidade de videos\")\n",
    "plt.title(\"Distribuição da quantidade de tags por video\")\n",
    "plt.xticks(x_values)\n",
    "plt.grid(axis=\"y\", linestyle=\"--\", alpha=0.7)\n",
    "plt.show()\n",
    "\n",
    "media_tags_por_video = np.average(x_values, weights=y_values)\n",
    "\n",
    "print(\"Média da quantidade de tags por vídeo:\", media_tags_por_video)"
   ]
  },
  {
   "cell_type": "code",
   "execution_count": 30,
   "id": "c3d815a0-d64b-450a-8bfb-aaac403e2b44",
   "metadata": {
    "execution": {
     "iopub.execute_input": "2025-03-25T19:53:22.364156Z",
     "iopub.status.busy": "2025-03-25T19:53:22.363642Z",
     "iopub.status.idle": "2025-03-25T19:53:22.376994Z",
     "shell.execute_reply": "2025-03-25T19:53:22.375740Z",
     "shell.execute_reply.started": "2025-03-25T19:53:22.364118Z"
    }
   },
   "outputs": [],
   "source": [
    "dic = {k: v for k, v in dic.items() if len(v) > 40}"
   ]
  },
  {
   "cell_type": "markdown",
   "id": "1c6b0f5a-6823-4ad6-b27a-f85cdaf69b1b",
   "metadata": {},
   "source": [
    "Adicionando os vértices"
   ]
  },
  {
   "cell_type": "code",
   "execution_count": 31,
   "id": "a865407a-2445-4211-aa85-fc7ba61af8c4",
   "metadata": {
    "execution": {
     "iopub.execute_input": "2025-03-25T19:53:31.965896Z",
     "iopub.status.busy": "2025-03-25T19:53:31.965428Z",
     "iopub.status.idle": "2025-03-25T19:53:32.080137Z",
     "shell.execute_reply": "2025-03-25T19:53:32.079088Z",
     "shell.execute_reply.started": "2025-03-25T19:53:31.965858Z"
    }
   },
   "outputs": [
    {
     "name": "stdout",
     "output_type": "stream",
     "text": [
      "Vertices: 7479\n"
     ]
    }
   ],
   "source": [
    "# Para esta definição de aresta, não faz sentido ser dirigido.\n",
    "g = gte.Graph(directed=False)\n",
    "tags_adicionadas = set()\n",
    "# As chaves de um dicionário são naturalmente únicas.\n",
    "# Não precisamos nos preocupar se o id já existe.\n",
    "vertices = 0\n",
    "arestas = 0\n",
    "for u in dic.keys():\n",
    "    #vertices +=1\n",
    "    #adiciona os videos como vertices\n",
    "    #g.add_vertex_by_id(u)\n",
    "    #adiciona tag como vertice\n",
    "    for tag in dic[u]:\n",
    "        if tag not in tags_adicionadas:\n",
    "            try:\n",
    "                g.add_vertex_by_id(tag)\n",
    "                tags_adicionadas.add(tag)  # Marca como adicionado\n",
    "                vertices += 1\n",
    "                contador+=1\n",
    "            except KeyError:\n",
    "                # Se já existe, apenas continue\n",
    "                pass  \n",
    "\n",
    "print(f\"Vertices: {vertices}\")"
   ]
  },
  {
   "cell_type": "markdown",
   "id": "a137efab-7731-4101-9fcb-65c36fc323e7",
   "metadata": {},
   "source": [
    "Gráfico numero de videos com tags em comum"
   ]
  },
  {
   "cell_type": "code",
   "execution_count": 32,
   "id": "193c0499-2013-4121-93d0-dcf0c841c374",
   "metadata": {
    "execution": {
     "iopub.execute_input": "2025-03-25T19:53:35.617889Z",
     "iopub.status.busy": "2025-03-25T19:53:35.615919Z",
     "iopub.status.idle": "2025-03-25T19:53:36.139058Z",
     "shell.execute_reply": "2025-03-25T19:53:36.137656Z",
     "shell.execute_reply.started": "2025-03-25T19:53:35.617857Z"
    }
   },
   "outputs": [
    {
     "data": {
      "image/png": "[encoded data removed]",
      "text/plain": [
       "<Figure size 1000x500 with 1 Axes>"
      ]
     },
     "metadata": {},
     "output_type": "display_data"
    }
   ],
   "source": [
    "contador_tags = Counter()\n",
    "\n",
    "# A função combinations é útil para iterar sobre pares\n",
    "# se a ordem NÃO importa.\n",
    "def tags_em_comum(tags1, tags2):\n",
    "    return bool(set(tags1) & set(tags2))  # Retorna True se houver interseção\n",
    "    \n",
    "vert_totais = (vertices*vertices -1)/2\n",
    "\n",
    "for u, v in combinations(dic.keys(), 2):\n",
    "    common_tags = len(set(dic[u]) & set(dic[v]))  # Número de tags em comum\n",
    "    # adiciona para fazer a grafico\n",
    "    contador_tags[common_tags] += 1\n",
    "    # se possuem tags em comum são ligados por uma aresta\n",
    "    #if tags_em_comum(dic[u],dic[v]):\n",
    "     #   g.add_edge_by_ids(u, v)\n",
    "     #   arestas += 1\n",
    "        \n",
    "x_values = sorted(contador_tags.keys())\n",
    "y_values = [(contador_tags[x]/vert_totais)*100 for x in x_values]\n",
    "\n",
    "# Criar gráfico\n",
    "plt.figure(figsize=(10, 5))\n",
    "plt.bar(x_values, y_values, color='b', alpha=0.7)\n",
    "plt.xlabel(\"Número de tags em comum\")\n",
    "plt.ylabel(\"Quantidade de pares de vídeos\")\n",
    "plt.title(\"Distribuição de pares de vídeos por número de tags em comum\")\n",
    "plt.xticks(x_values)\n",
    "plt.grid(axis=\"y\", linestyle=\"--\", alpha=0.7)\n",
    "plt.show()\n",
    "\n"
   ]
  },
  {
   "cell_type": "code",
   "execution_count": 33,
   "id": "cae186e6-3327-448b-9eec-8d5f40ac0352",
   "metadata": {
    "execution": {
     "iopub.execute_input": "2025-03-25T19:53:39.829084Z",
     "iopub.status.busy": "2025-03-25T19:53:39.828072Z",
     "iopub.status.idle": "2025-03-25T19:53:40.090543Z",
     "shell.execute_reply": "2025-03-25T19:53:40.089602Z",
     "shell.execute_reply.started": "2025-03-25T19:53:39.829054Z"
    }
   },
   "outputs": [
    {
     "data": {
      "image/png": "[encoded data removed]",
      "text/plain": [
       "<Figure size 1500x800 with 1 Axes>"
      ]
     },
     "metadata": {},
     "output_type": "display_data"
    }
   ],
   "source": [
    "contador_tag_video = Counter()\n",
    "for u in dic.keys():\n",
    "    n = len(dic[u])\n",
    "    contador_tag_video[n] += 1\n",
    "\n",
    "x_values = sorted(contador_tag_video.keys())\n",
    "y_values = [contador_tag_video[x] for x in x_values]\n",
    "\n",
    "# Criar gráfico\n",
    "plt.figure(figsize=(15, 8))\n",
    "plt.bar(x_values, y_values, color='b', alpha=0.7)\n",
    "plt.xlabel(\"Número de tags\")\n",
    "plt.ylabel(\"Quantidade de videos\")\n",
    "plt.title(\"Distribuição da quantidade de tags por video\")\n",
    "plt.xticks(x_values)\n",
    "plt.grid(axis=\"y\", linestyle=\"--\", alpha=0.7)\n",
    "plt.show()\n",
    "\n",
    "\n",
    "    "
   ]
  },
  {
   "cell_type": "code",
   "execution_count": 34,
   "id": "95f5f0b6-b417-48e8-a18b-7b88050166ff",
   "metadata": {
    "execution": {
     "iopub.execute_input": "2025-03-25T19:53:45.140389Z",
     "iopub.status.busy": "2025-03-25T19:53:45.139737Z",
     "iopub.status.idle": "2025-03-25T19:53:46.365208Z",
     "shell.execute_reply": "2025-03-25T19:53:46.364007Z",
     "shell.execute_reply.started": "2025-03-25T19:53:45.140350Z"
    }
   },
   "outputs": [
    {
     "data": {
      "image/png": "[encoded data removed]",
      "text/plain": [
       "<Figure size 1000x500 with 1 Axes>"
      ]
     },
     "metadata": {},
     "output_type": "display_data"
    }
   ],
   "source": [
    "from itertools import combinations\n",
    "import matplotlib.pyplot as plt\n",
    "from collections import Counter\n",
    "\n",
    "contador_pares = Counter()\n",
    "\n",
    "# Para cada vídeo, gerar pares de tags e contar as ocorrências\n",
    "for tags in dic.values():\n",
    "    for tag1, tag2 in combinations(tags, 2):\n",
    "        contador_pares[(tag1, tag2)] += 1\n",
    "\n",
    "# Criar lista de contagens para o histograma\n",
    "contagens = list(contador_pares.values())\n",
    "\n",
    "# Criar gráfico de histograma\n",
    "plt.figure(figsize=(10, 5))\n",
    "plt.hist(contagens, bins=50, color='b', alpha=0.7, edgecolor=\"black\")\n",
    "plt.xlabel(\"Número de vezes que um par de tags aparece junto\")\n",
    "plt.ylabel(\"Quantidade de pares de tags\")\n",
    "plt.title(\"Distribuição da frequência de pares de tags nos vídeos\")\n",
    "plt.yscale(\"log\")  # Escala logarítmica para melhor visualização\n",
    "plt.xscale(\"log\")\n",
    "plt.grid(axis=\"y\", linestyle=\"--\", alpha=0.7)\n",
    "plt.show()\n",
    "\n",
    "# caso as tags apareçam juntas em mais de 60 videos, são ligadas\n",
    "for (tag1, tag2), count in contador_pares.items():\n",
    "    if count > 10:\n",
    "        g.add_edge_by_ids(tag1, tag2)\n",
    "        arestas+=1\n",
    "            "
   ]
  },
  {
   "cell_type": "code",
   "execution_count": 35,
   "id": "b653c1f8-931d-42b0-b6fa-b56e322c5981",
   "metadata": {
    "execution": {
     "iopub.execute_input": "2025-03-25T19:53:48.966109Z",
     "iopub.status.busy": "2025-03-25T19:53:48.965656Z",
     "iopub.status.idle": "2025-03-25T19:53:48.973344Z",
     "shell.execute_reply": "2025-03-25T19:53:48.972031Z",
     "shell.execute_reply.started": "2025-03-25T19:53:48.966080Z"
    }
   },
   "outputs": [
    {
     "name": "stdout",
     "output_type": "stream",
     "text": [
      "Arestas 1042\n"
     ]
    }
   ],
   "source": [
    "print(f\"Arestas {arestas}\")"
   ]
  },
  {
   "cell_type": "code",
   "execution_count": 37,
   "id": "d77aa9e7-8ec5-4fc1-8420-ffb70f5e469c",
   "metadata": {
    "execution": {
     "iopub.execute_input": "2025-03-25T19:54:51.487665Z",
     "iopub.status.busy": "2025-03-25T19:54:51.486896Z",
     "iopub.status.idle": "2025-03-25T19:54:51.593745Z",
     "shell.execute_reply": "2025-03-25T19:54:51.586976Z",
     "shell.execute_reply.started": "2025-03-25T19:54:51.487628Z"
    }
   },
   "outputs": [],
   "source": [
    "from graph_tool import draw\n",
    "layout = draw.sfdp_layout(g)\n",
    "# fazer clear\n",
    "gte.move(g, layout)\n",
    "g = gte.clean(g)\n",
    "gte.save(g, 'two_mode_so_tags.net.gz')"
   ]
  },
  {
   "cell_type": "code",
   "execution_count": 40,
   "id": "0acb6e43-f875-4c8c-a038-9713e957a35a",
   "metadata": {
    "execution": {
     "iopub.execute_input": "2025-03-25T19:56:43.097993Z",
     "iopub.status.busy": "2025-03-25T19:56:43.097051Z",
     "iopub.status.idle": "2025-03-25T19:56:43.945196Z",
     "shell.execute_reply": "2025-03-25T19:56:43.943816Z",
     "shell.execute_reply.started": "2025-03-25T19:56:43.097961Z"
    }
   },
   "outputs": [
    {
     "name": "stdout",
     "output_type": "stream",
     "text": [
      "1754\n"
     ]
    }
   ],
   "source": [
    "#adicionando os videos como vertices\n",
    "for u in dic.keys():\n",
    "    g.add_vertex_by_id(u)\n",
    "    for tag in dic[u]:\n",
    "        # liga video com a tag se ele possuir ela\n",
    "        try:\n",
    "            g.add_edge_by_ids(u, tag)\n",
    "            arestas +=1\n",
    "        except KeyError:\n",
    "                # Se já existe, apenas continue\n",
    "            pass  \n",
    "\n",
    "layout = draw.sfdp_layout(g)\n",
    "# fazer clear\n",
    "gte.move(g, layout)\n",
    "g = gte.clean(g)\n",
    "gte.save(g, 'hibrida.net.gz')\n",
    "print(arestas)"
   ]
  },
  {
   "cell_type": "markdown",
   "id": "29048423-90c2-4182-9080-6f2117f5e0bf",
   "metadata": {},
   "source": [
    "REDE TWO MODE"
   ]
  },
  {
   "cell_type": "code",
   "execution_count": 8,
   "id": "e56d1a83-fada-4219-a18d-6b2aa5d099b5",
   "metadata": {
    "execution": {
     "iopub.execute_input": "2025-03-24T22:29:48.034445Z",
     "iopub.status.busy": "2025-03-24T22:29:48.033648Z",
     "iopub.status.idle": "2025-03-24T22:29:48.049564Z",
     "shell.execute_reply": "2025-03-24T22:29:48.048423Z",
     "shell.execute_reply.started": "2025-03-24T22:29:48.034275Z"
    }
   },
   "outputs": [
    {
     "data": {
      "text/html": [
       "\n",
       "        <div id=\"mD5nmZd67gMQ96ZdnRMBMS\"></div>\n",
       "        <script>netpixi.render('mD5nmZd67gMQ96ZdnRMBMS', '/static/__shared__/two_mode_so_tags.net.gz', 1.7777777777777777, true, true, false, true);</script>\n",
       "    "
      ],
      "text/plain": [
       "<IPython.core.display.HTML object>"
      ]
     },
     "metadata": {},
     "output_type": "display_data"
    }
   ],
   "source": [
    "import netpixi\n",
    "r = netpixi.render('two_mode_so_tags.net.gz', infinite=True);"
   ]
  },
  {
   "cell_type": "markdown",
   "id": "a4caed82-f312-412d-910a-a36d3c1f9cf6",
   "metadata": {},
   "source": [
    "# Degree sobre a two-mode original"
   ]
  },
  {
   "cell_type": "code",
   "execution_count": 7,
   "id": "f6447f63-d159-4385-8313-5971b76a78bb",
   "metadata": {
    "execution": {
     "iopub.execute_input": "2025-03-24T22:47:39.111716Z",
     "iopub.status.busy": "2025-03-24T22:47:39.111214Z",
     "iopub.status.idle": "2025-03-24T22:47:39.760708Z",
     "shell.execute_reply": "2025-03-24T22:47:39.759408Z",
     "shell.execute_reply.started": "2025-03-24T22:47:39.111682Z"
    }
   },
   "outputs": [
    {
     "data": {
      "text/html": [
       "\n",
       "    <script src=\"/static/.hidden/netpixi.min.js\"></script>\n"
      ],
      "text/plain": [
       "<IPython.core.display.HTML object>"
      ]
     },
     "metadata": {},
     "output_type": "display_data"
    },
    {
     "data": {
      "text/html": [
       "\n",
       "        <div id=\"YKEaWKjdury9fY6LxfRMpX\"></div>\n",
       "        <script>netpixi.render('YKEaWKjdury9fY6LxfRMpX', '/static/__shared__/degree.net.gz', 1.7777777777777777, true, false, false, true);</script>\n",
       "    "
      ],
      "text/plain": [
       "<IPython.core.display.HTML object>"
      ]
     },
     "metadata": {},
     "output_type": "display_data"
    }
   ],
   "source": [
    "import netpixi\n",
    "g = gte.load('./two_mode_so_tags.net.gz')\n",
    "c = gte.total_degree(g)\n",
    "\n",
    "g.add_vp('degree', c)\n",
    "\n",
    "gte.save(g, 'degree.net.gz')\n",
    "\n",
    "r_d = netpixi.render('degree.net.gz')"
   ]
  },
  {
   "cell_type": "code",
   "execution_count": 8,
   "id": "52a8c21f-d138-470e-b220-31b1732309fc",
   "metadata": {
    "execution": {
     "iopub.execute_input": "2025-03-24T22:47:46.508250Z",
     "iopub.status.busy": "2025-03-24T22:47:46.506611Z",
     "iopub.status.idle": "2025-03-24T22:47:46.519868Z",
     "shell.execute_reply": "2025-03-24T22:47:46.517506Z",
     "shell.execute_reply.started": "2025-03-24T22:47:46.508193Z"
    }
   },
   "outputs": [
    {
     "data": {
      "text/html": [
       "\n",
       "        <div id=\"Dds4C7YVy8aMfcQJNF9cFp\"></div>\n",
       "        <script>netpixi.call('Dds4C7YVy8aMfcQJNF9cFp', 'YKEaWKjdury9fY6LxfRMpX', 'normalizeGraph', 'eyJ0eXBlIjogInZlcnRleCIsICJwcm9wcyI6IHsic3JjIjogImRlZ3JlZSIsICJtaW4iOiAxMCwgIm1heCI6IDMwfX0K');</script>\n",
       "    "
      ],
      "text/plain": [
       "<IPython.core.display.HTML object>"
      ]
     },
     "metadata": {},
     "output_type": "display_data"
    }
   ],
   "source": [
    "r_d.vertex_scale('degree', 10, 30)"
   ]
  },
  {
   "cell_type": "markdown",
   "id": "98434707-74bd-4527-a064-84b035e80000",
   "metadata": {},
   "source": [
    "# Closeness sobre a two-mode original"
   ]
  },
  {
   "cell_type": "code",
   "execution_count": 33,
   "id": "4788d556-b002-4ccc-81a3-9c7b15329d8f",
   "metadata": {
    "execution": {
     "iopub.execute_input": "2025-03-25T19:14:57.646743Z",
     "iopub.status.busy": "2025-03-25T19:14:57.646374Z",
     "iopub.status.idle": "2025-03-25T19:14:57.767789Z",
     "shell.execute_reply": "2025-03-25T19:14:57.766568Z",
     "shell.execute_reply.started": "2025-03-25T19:14:57.646716Z"
    }
   },
   "outputs": [
    {
     "data": {
      "text/html": [
       "\n",
       "        <div id=\"Sm6Wk2QLzzcAGhsW9CDQau\"></div>\n",
       "        <script>netpixi.render('Sm6Wk2QLzzcAGhsW9CDQau', '/static/__shared__/closeness.net.gz', 1.7777777777777777, true, false, false, true);</script>\n",
       "    "
      ],
      "text/plain": [
       "<IPython.core.display.HTML object>"
      ]
     },
     "metadata": {},
     "output_type": "display_data"
    }
   ],
   "source": [
    "import netpixi\n",
    "g = gte.load('./two_mode_so_tags.net.gz')\n",
    "c = centrality.closeness(g, harmonic=True)\n",
    "\n",
    "g.add_vp('closeness', c)\n",
    "\n",
    "gte.save(g, 'closeness.net.gz')\n",
    "\n",
    "r_c = netpixi.render('closeness.net.gz')\n",
    "\n"
   ]
  },
  {
   "cell_type": "code",
   "execution_count": 12,
   "id": "135c8b80-8d83-447c-ab97-e85edd1fadf3",
   "metadata": {
    "execution": {
     "iopub.execute_input": "2025-03-24T23:03:00.583263Z",
     "iopub.status.busy": "2025-03-24T23:03:00.582631Z",
     "iopub.status.idle": "2025-03-24T23:03:00.592111Z",
     "shell.execute_reply": "2025-03-24T23:03:00.590409Z",
     "shell.execute_reply.started": "2025-03-24T23:03:00.583227Z"
    }
   },
   "outputs": [
    {
     "data": {
      "text/html": [
       "\n",
       "        <div id=\"ZEdvKSmNTahhrao6LPNvTf\"></div>\n",
       "        <script>netpixi.call('ZEdvKSmNTahhrao6LPNvTf', 'AuXD6W75wVgcc48suCKCez', 'normalizeGraph', 'eyJ0eXBlIjogInZlcnRleCIsICJwcm9wcyI6IHsic3JjIjogImNsb3NlbmVzcyIsICJtaW4iOiAxMCwgIm1heCI6IDMwfX0K');</script>\n",
       "    "
      ],
      "text/plain": [
       "<IPython.core.display.HTML object>"
      ]
     },
     "metadata": {},
     "output_type": "display_data"
    }
   ],
   "source": [
    "r_c.vertex_scale('closeness', 10, 30)"
   ]
  },
  {
   "cell_type": "code",
   "execution_count": 14,
   "id": "8fc73881-ceef-446c-b578-480adb8600f2",
   "metadata": {
    "execution": {
     "iopub.execute_input": "2025-03-25T19:04:16.014623Z",
     "iopub.status.busy": "2025-03-25T19:04:16.013905Z",
     "iopub.status.idle": "2025-03-25T19:04:16.023787Z",
     "shell.execute_reply": "2025-03-25T19:04:16.022889Z",
     "shell.execute_reply.started": "2025-03-25T19:04:16.014587Z"
    }
   },
   "outputs": [
    {
     "name": "stdout",
     "output_type": "stream",
     "text": [
      "Top 5 tags mais centrais (closeness):\n",
      "5: 0.9087301587301587\n",
      "\n",
      "27: 0.9087301587301587\n",
      "\n",
      "6: 0.8968253968253967\n",
      "\n",
      "8: 0.8968253968253967\n",
      "\n",
      "9: 0.8968253968253967\n",
      "\n"
     ]
    }
   ],
   "source": [
    "top_5 = sorted(g.vertices(), key=lambda v: c[v], reverse=True)[:5]\n",
    "\n",
    "# Exibir os resultados\n",
    "print(\"Top 5 tags mais centrais (closeness):\")\n",
    "for v in top_5:\n",
    "    print(f\"{v['name']}: {c[v]}\")"
   ]
  },
  {
   "cell_type": "markdown",
   "id": "490e340d-f4ba-4d9d-bc61-5835a4eecd99",
   "metadata": {},
   "source": [
    "# Betweennes sobre a two-mode original"
   ]
  },
  {
   "cell_type": "code",
   "execution_count": 19,
   "id": "436f160d-12a8-46e2-8ca3-1ead093fe920",
   "metadata": {
    "execution": {
     "iopub.execute_input": "2025-03-25T19:48:00.883016Z",
     "iopub.status.busy": "2025-03-25T19:48:00.882658Z",
     "iopub.status.idle": "2025-03-25T19:48:00.960145Z",
     "shell.execute_reply": "2025-03-25T19:48:00.959198Z",
     "shell.execute_reply.started": "2025-03-25T19:48:00.882990Z"
    }
   },
   "outputs": [
    {
     "data": {
      "text/html": [
       "\n",
       "        <div id=\"kuaEFEEpFqAkHp57bpnt7K\"></div>\n",
       "        <script>netpixi.render('kuaEFEEpFqAkHp57bpnt7K', '/static/__shared__/betweenness.net.gz', 1.7777777777777777, true, false, false, true);</script>\n",
       "    "
      ],
      "text/plain": [
       "<IPython.core.display.HTML object>"
      ]
     },
     "metadata": {},
     "output_type": "display_data"
    }
   ],
   "source": [
    "import netpixi\n",
    "g = gte.load('./two_mode_so_tags.net.gz')\n",
    "c, _ = centrality.betweenness(g)\n",
    "\n",
    "g.add_vp('betweenness', c)\n",
    "\n",
    "gte.save(g, 'betweenness.net.gz')\n",
    "\n",
    "r_b = netpixi.render('betweenness.net.gz')\n",
    "\n"
   ]
  },
  {
   "cell_type": "code",
   "execution_count": 14,
   "id": "fb79ef2f-017b-4c64-92fc-17f8bc24d45b",
   "metadata": {
    "execution": {
     "iopub.execute_input": "2025-03-24T22:51:00.066877Z",
     "iopub.status.busy": "2025-03-24T22:51:00.066141Z",
     "iopub.status.idle": "2025-03-24T22:51:00.077856Z",
     "shell.execute_reply": "2025-03-24T22:51:00.076665Z",
     "shell.execute_reply.started": "2025-03-24T22:51:00.066841Z"
    }
   },
   "outputs": [
    {
     "data": {
      "text/html": [
       "\n",
       "        <div id=\"Cc3fJL2qNP5Q4AeYCQgvCN\"></div>\n",
       "        <script>netpixi.call('Cc3fJL2qNP5Q4AeYCQgvCN', 'ZuUgm728ykTaFXqEjZWGMR', 'normalizeGraph', 'eyJ0eXBlIjogInZlcnRleCIsICJwcm9wcyI6IHsic3JjIjogImJldHdlZW5uZXNzIiwgIm1pbiI6IDEwLCAibWF4IjogMzB9fQo=');</script>\n",
       "    "
      ],
      "text/plain": [
       "<IPython.core.display.HTML object>"
      ]
     },
     "metadata": {},
     "output_type": "display_data"
    }
   ],
   "source": [
    "r_b.vertex_scale('betweenness', 10, 30)"
   ]
  },
  {
   "cell_type": "code",
   "execution_count": 20,
   "id": "0f894285-3af6-4343-bc8a-bf1e491ba770",
   "metadata": {
    "execution": {
     "iopub.execute_input": "2025-03-25T19:48:04.843913Z",
     "iopub.status.busy": "2025-03-25T19:48:04.843245Z",
     "iopub.status.idle": "2025-03-25T19:48:04.855606Z",
     "shell.execute_reply": "2025-03-25T19:48:04.854572Z",
     "shell.execute_reply.started": "2025-03-25T19:48:04.843855Z"
    }
   },
   "outputs": [
    {
     "name": "stdout",
     "output_type": "stream",
     "text": [
      "Top 5 tags (betweennes):\n",
      "41: 0.25101626016260165\n",
      "1: 0.22531939605110338\n",
      "5: 0.028979680623370963\n",
      "27: 0.028979680623370963\n",
      "6: 0.005750876906762378\n"
     ]
    }
   ],
   "source": [
    "top_5 = sorted(g.vertices(), key=lambda v: c[v], reverse=True)[:5]\n",
    "\n",
    "# Exibir os resultados\n",
    "print(\"Top 5 tags (betweennes):\")\n",
    "for v in top_5:\n",
    "    print(f\"{v}: {c[v]}\")\n"
   ]
  },
  {
   "cell_type": "code",
   "execution_count": 22,
   "id": "687da00a-deda-41a1-a0a8-80822ee27f8d",
   "metadata": {
    "execution": {
     "iopub.execute_input": "2025-03-25T19:48:36.653800Z",
     "iopub.status.busy": "2025-03-25T19:48:36.652785Z",
     "iopub.status.idle": "2025-03-25T19:48:36.664887Z",
     "shell.execute_reply": "2025-03-25T19:48:36.661607Z",
     "shell.execute_reply.started": "2025-03-25T19:48:36.653747Z"
    }
   },
   "outputs": [
    {
     "name": "stdout",
     "output_type": "stream",
     "text": [
      "['id', '_x', '_y', 'betweenness']\n"
     ]
    }
   ],
   "source": [
    "    print(list(g.vp.keys()))"
   ]
  },
  {
   "cell_type": "markdown",
   "id": "dfce43fa-5df2-4066-a886-be479dc1ae60",
   "metadata": {},
   "source": [
    "# Degree sobre a hibrida"
   ]
  },
  {
   "cell_type": "code",
   "execution_count": 7,
   "id": "c1756742-6451-42d3-b754-a3e212b10c69",
   "metadata": {
    "execution": {
     "iopub.execute_input": "2025-03-25T19:59:06.452926Z",
     "iopub.status.busy": "2025-03-25T19:59:06.452405Z",
     "iopub.status.idle": "2025-03-25T19:59:07.082680Z",
     "shell.execute_reply": "2025-03-25T19:59:07.081230Z",
     "shell.execute_reply.started": "2025-03-25T19:59:06.452891Z"
    }
   },
   "outputs": [
    {
     "data": {
      "text/html": [
       "\n",
       "    <script src=\"/static/.hidden/netpixi.min.js\"></script>\n"
      ],
      "text/plain": [
       "<IPython.core.display.HTML object>"
      ]
     },
     "metadata": {},
     "output_type": "display_data"
    },
    {
     "data": {
      "text/html": [
       "\n",
       "        <div id=\"jtHnPkNbGHA9BKEoiBvHC3\"></div>\n",
       "        <script>netpixi.render('jtHnPkNbGHA9BKEoiBvHC3', '/static/__shared__/degree_hibrida.net.gz', 1.7777777777777777, true, false, false, true);</script>\n",
       "    "
      ],
      "text/plain": [
       "<IPython.core.display.HTML object>"
      ]
     },
     "metadata": {},
     "output_type": "display_data"
    }
   ],
   "source": [
    "import netpixi\n",
    "g = gte.load('./hibrida.net.gz')\n",
    "c = gte.total_degree(g)\n",
    "\n",
    "g.add_vp('degree', c)\n",
    "\n",
    "gte.save(g, 'degree_hibrida.net.gz')\n",
    "\n",
    "r_hd = netpixi.render('degree_hibrida.net.gz')"
   ]
  },
  {
   "cell_type": "code",
   "execution_count": 14,
   "id": "0c545e64-e393-4932-9882-ee1726b6a044",
   "metadata": {
    "execution": {
     "iopub.execute_input": "2025-03-25T20:02:53.910823Z",
     "iopub.status.busy": "2025-03-25T20:02:53.910136Z",
     "iopub.status.idle": "2025-03-25T20:02:53.921682Z",
     "shell.execute_reply": "2025-03-25T20:02:53.920116Z",
     "shell.execute_reply.started": "2025-03-25T20:02:53.910792Z"
    }
   },
   "outputs": [
    {
     "data": {
      "text/html": [
       "\n",
       "        <div id=\"nLqHV8h6Ecwjvr8kFozzQk\"></div>\n",
       "        <script>netpixi.call('nLqHV8h6Ecwjvr8kFozzQk', 'jtHnPkNbGHA9BKEoiBvHC3', 'normalizeGraph', 'eyJ0eXBlIjogInZlcnRleCIsICJwcm9wcyI6IHsic3JjIjogImRlZ3JlZSIsICJtaW4iOiAxMCwgIm1heCI6IDMwfX0K');</script>\n",
       "    "
      ],
      "text/plain": [
       "<IPython.core.display.HTML object>"
      ]
     },
     "metadata": {},
     "output_type": "display_data"
    }
   ],
   "source": [
    "r_hd.vertex_scale('degree', 10, 30)"
   ]
  },
  {
   "cell_type": "code",
   "execution_count": 15,
   "id": "791cc2de-7248-4831-968b-ef46f38dd341",
   "metadata": {
    "execution": {
     "iopub.execute_input": "2025-03-25T20:02:54.834898Z",
     "iopub.status.busy": "2025-03-25T20:02:54.834009Z",
     "iopub.status.idle": "2025-03-25T20:02:54.845316Z",
     "shell.execute_reply": "2025-03-25T20:02:54.843668Z",
     "shell.execute_reply.started": "2025-03-25T20:02:54.834873Z"
    }
   },
   "outputs": [
    {
     "name": "stdout",
     "output_type": "stream",
     "text": [
      "Top 5 tags (degree):\n",
      "49: 1.0\n",
      "50: 1.0\n",
      "52: 1.0\n",
      "54: 1.0\n",
      "57: 1.0\n"
     ]
    }
   ],
   "source": [
    "top_5 = sorted(g.vertices(), key=lambda v: c[v], reverse=True)[:5]\n",
    "\n",
    "# Exibir os resultados\n",
    "print(\"Top 5 tags (degree):\")\n",
    "for v in top_5:\n",
    "    print(f\"{v}: {c[v]}\")"
   ]
  },
  {
   "cell_type": "markdown",
   "id": "2e67ea45-e23b-454c-809d-a504ef9f3ed1",
   "metadata": {},
   "source": [
    "# Restrição sobre a rede hibrida"
   ]
  },
  {
   "cell_type": "code",
   "execution_count": 9,
   "id": "8168d7bf-c01b-4323-897c-af004499605d",
   "metadata": {
    "execution": {
     "iopub.execute_input": "2025-03-25T19:59:31.735691Z",
     "iopub.status.busy": "2025-03-25T19:59:31.734081Z",
     "iopub.status.idle": "2025-03-25T19:59:33.335656Z",
     "shell.execute_reply": "2025-03-25T19:59:33.334144Z",
     "shell.execute_reply.started": "2025-03-25T19:59:31.735645Z"
    }
   },
   "outputs": [
    {
     "data": {
      "text/html": [
       "\n",
       "        <div id=\"hwwLUJFdp8So95JDYjE7Lh\"></div>\n",
       "        <script>netpixi.render('hwwLUJFdp8So95JDYjE7Lh', '/static/__shared__/structural_holes.net.gz', 1.7777777777777777, true, false, false, true);</script>\n",
       "    "
      ],
      "text/plain": [
       "<IPython.core.display.HTML object>"
      ]
     },
     "metadata": {},
     "output_type": "display_data"
    }
   ],
   "source": [
    "import netpixi\n",
    "g = gte.load('./hibrida.net.gz')\n",
    "\n",
    "c = gte.burt_constraint(g)\n",
    "\n",
    "g.add_vp('burt_constraint', c)\n",
    "\n",
    "gte.save(g, 'structural_holes.net.gz')\n",
    "\n",
    "r_s = netpixi.render('structural_holes.net.gz')"
   ]
  },
  {
   "cell_type": "code",
   "execution_count": 11,
   "id": "4dd53752-e074-40b3-9d39-0b2c031a74b9",
   "metadata": {
    "execution": {
     "iopub.execute_input": "2025-03-25T19:59:39.740966Z",
     "iopub.status.busy": "2025-03-25T19:59:39.740025Z",
     "iopub.status.idle": "2025-03-25T19:59:39.750792Z",
     "shell.execute_reply": "2025-03-25T19:59:39.748971Z",
     "shell.execute_reply.started": "2025-03-25T19:59:39.740940Z"
    }
   },
   "outputs": [
    {
     "data": {
      "text/html": [
       "\n",
       "        <div id=\"4yWysHYjoKuA6iv9UDCDyp\"></div>\n",
       "        <script>netpixi.call('4yWysHYjoKuA6iv9UDCDyp', 'hwwLUJFdp8So95JDYjE7Lh', 'normalizeGraph', 'eyJ0eXBlIjogInZlcnRleCIsICJwcm9wcyI6IHsic3JjIjogImJ1cnRfY29uc3RyYWludCIsICJtaW4iOiAxMCwgIm1heCI6IDMwfX0K');</script>\n",
       "    "
      ],
      "text/plain": [
       "<IPython.core.display.HTML object>"
      ]
     },
     "metadata": {},
     "output_type": "display_data"
    }
   ],
   "source": [
    "r_s.vertex_scale('burt_constraint', 10, 30)"
   ]
  },
  {
   "cell_type": "code",
   "execution_count": 13,
   "id": "3aaed292-3cec-48eb-a61c-7f1b4d03fbf1",
   "metadata": {
    "execution": {
     "iopub.execute_input": "2025-03-25T20:02:12.336447Z",
     "iopub.status.busy": "2025-03-25T20:02:12.335708Z",
     "iopub.status.idle": "2025-03-25T20:02:12.347168Z",
     "shell.execute_reply": "2025-03-25T20:02:12.345873Z",
     "shell.execute_reply.started": "2025-03-25T20:02:12.336420Z"
    }
   },
   "outputs": [
    {
     "name": "stdout",
     "output_type": "stream",
     "text": [
      "Top 5 tags (restrição):\n",
      "49: 1.0\n",
      "50: 1.0\n",
      "52: 1.0\n",
      "54: 1.0\n",
      "57: 1.0\n"
     ]
    }
   ],
   "source": [
    "top_5 = sorted(g.vertices(), key=lambda v: c[v], reverse=True)[:5]\n",
    "\n",
    "# Exibir os resultados\n",
    "print(\"Top 5 tags (restrição):\")\n",
    "for v in top_5:\n",
    "    print(f\"{v}: {c[v]}\")"
   ]
  },
  {
   "cell_type": "code",
   "execution_count": null,
   "id": "3f16461f-a095-4800-b17b-6469898a21d0",
   "metadata": {},
   "outputs": [],
   "source": []
  }
 ],
 "metadata": {
  "kernelspec": {
   "display_name": "Python 3 (ipykernel)",
   "language": "python",
   "name": "python3"
  },
  "language_info": {
   "codemirror_mode": {
    "name": "ipython",
    "version": 3
   },
   "file_extension": ".py",
   "mimetype": "text/x-python",
   "name": "python",
   "nbconvert_exporter": "python",
   "pygments_lexer": "ipython3",
   "version": "3.13.1"
  }
 },
 "nbformat": 4,
 "nbformat_minor": 5
}
